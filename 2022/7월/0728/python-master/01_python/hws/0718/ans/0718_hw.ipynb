{
 "cells": [
  {
   "cell_type": "markdown",
   "id": "cc3d224c",
   "metadata": {},
   "source": [
    "# Python 예약어\n",
    "python에서 사용할 수 없는 식별자(예약어) 를 찾아서 작성하시오."
   ]
  },
  {
   "cell_type": "code",
   "execution_count": 1,
   "id": "1adc03a0",
   "metadata": {},
   "outputs": [
    {
     "name": "stdout",
     "output_type": "stream",
     "text": [
      "['False', 'None', 'True', 'and', 'as', 'assert', 'async', 'await', 'break', 'class', 'continue', 'def', 'del', 'elif', 'else', 'except', 'finally', 'for', 'from', 'global', 'if', 'import', 'in', 'is', 'lambda', 'nonlocal', 'not', 'or', 'pass', 'raise', 'return', 'try', 'while', 'with', 'yield']\n"
     ]
    }
   ],
   "source": [
    "import keyword\n",
    "print(keyword.kwlist)"
   ]
  },
  {
   "cell_type": "markdown",
   "id": "fcadcec0",
   "metadata": {},
   "source": [
    "# 실수 비교\n",
    "\n",
    "python은 부동소수점 방식을 이용해서 실수(float)를 표현하는 과정에서, 나타내고자 하는 값과 오차가 발생한다. 그래서 원하는대로 연산 또는 비교가 되지 않을 때가 있다. 이럴때 발생하는 오차의 크기가 매우 작은 수와 비교해서 그 수보다 작다면 같은 값으로 인정하는 방법으로 수를 비교한다."
   ]
  },
  {
   "cell_type": "code",
   "execution_count": 4,
   "id": "3e3be36b",
   "metadata": {},
   "outputs": [
    {
     "name": "stdout",
     "output_type": "stream",
     "text": [
      "False\n",
      "True\n"
     ]
    }
   ],
   "source": [
    "num1 = 0.1 * 3\n",
    "num2 = 0.3\n",
    "\n",
    "print(num1==num2)\n",
    "\n",
    "# 쉽게 비교하는 방법 => math 라는 모듈\n",
    "import math\n",
    "print(math.isclose(num1, num2))\n",
    "\n",
    "# 입실론 (매우 작은 수를 이용하여서 비교)"
   ]
  },
  {
   "cell_type": "markdown",
   "id": "47ea2025",
   "metadata": {},
   "source": [
    "# 이스케이프 시퀀스\n",
    "줄바꿈, 탭, 백슬래시를 의미하는 이스케이프 시퀀스를 작성하시오."
   ]
  },
  {
   "cell_type": "code",
   "execution_count": 5,
   "id": "51439de0",
   "metadata": {},
   "outputs": [
    {
     "name": "stdout",
     "output_type": "stream",
     "text": [
      "안녕 \n",
      " 파이썬\n",
      "안녕 \t 파이썬\n",
      "안녕 \\ 파이썬\n"
     ]
    }
   ],
   "source": [
    "print(\"안녕 \\n 파이썬\")\n",
    "print(\"안녕 \\t 파이썬\")\n",
    "print(\"안녕 \\\\ 파이썬\")"
   ]
  },
  {
   "cell_type": "markdown",
   "id": "3a5d964e",
   "metadata": {},
   "source": [
    "# String Interpolation\n",
    "\"안녕, 철수야\" 를 string interpolation을 사용해서 출력하시오."
   ]
  },
  {
   "cell_type": "code",
   "execution_count": 7,
   "id": "b4c8d284",
   "metadata": {},
   "outputs": [
    {
     "name": "stdout",
     "output_type": "stream",
     "text": [
      "안녕, 철수야\n",
      "안녕, 짱구야\n"
     ]
    }
   ],
   "source": [
    "print(\"안녕, 철수야\")\n",
    "\n",
    "name = \"철수\"\n",
    "name1 = \"짱구\"\n",
    "\n",
    "print(f\"안녕, {name1}야\")"
   ]
  },
  {
   "cell_type": "markdown",
   "id": "acb6ae48",
   "metadata": {},
   "source": [
    "# 형 변환\n",
    "다음 중, 실행시 오류가 발생하는 코드를 고르시오."
   ]
  },
  {
   "cell_type": "code",
   "execution_count": 12,
   "id": "cdbac4e7",
   "metadata": {},
   "outputs": [
    {
     "ename": "ValueError",
     "evalue": "invalid literal for int() with base 10: '3.5'",
     "output_type": "error",
     "traceback": [
      "\u001b[1;31m---------------------------------------------------------------------------\u001b[0m",
      "\u001b[1;31mValueError\u001b[0m                                Traceback (most recent call last)",
      "Input \u001b[1;32mIn [12]\u001b[0m, in \u001b[0;36m<cell line: 5>\u001b[1;34m()\u001b[0m\n\u001b[0;32m      3\u001b[0m \u001b[38;5;28mint\u001b[39m(\u001b[38;5;241m5\u001b[39m) \u001b[38;5;66;03m# (3)\u001b[39;00m\n\u001b[0;32m      4\u001b[0m \u001b[38;5;28mbool\u001b[39m(\u001b[38;5;124m'\u001b[39m\u001b[38;5;124m50\u001b[39m\u001b[38;5;124m'\u001b[39m) \u001b[38;5;66;03m# (4)\u001b[39;00m\n\u001b[1;32m----> 5\u001b[0m \u001b[38;5;28;43mint\u001b[39;49m\u001b[43m(\u001b[49m\u001b[38;5;124;43m'\u001b[39;49m\u001b[38;5;124;43m3.5\u001b[39;49m\u001b[38;5;124;43m'\u001b[39;49m\u001b[43m)\u001b[49m\n",
      "\u001b[1;31mValueError\u001b[0m: invalid literal for int() with base 10: '3.5'"
     ]
    }
   ],
   "source": [
    "str(1) # (1)\n",
    "int('30') # (2)\n",
    "int(5) # (3)\n",
    "bool('50') # (4)\n",
    "int('3.5') # (5)"
   ]
  },
  {
   "cell_type": "markdown",
   "id": "1b0671be",
   "metadata": {},
   "source": [
    "# 네모 출력\n",
    "두개의 정수 n 과 m 이 주어졌을때, 가로의 길이가 n , 세로의 길이가 m 인 직사각형 형태를 (*)별 문자를 이용하여 출력하시오.\n",
    "단, 반복문을 사용할 수 없다."
   ]
  },
  {
   "cell_type": "code",
   "execution_count": 15,
   "id": "b33afd83",
   "metadata": {},
   "outputs": [
    {
     "name": "stdout",
     "output_type": "stream",
     "text": [
      "*****\n",
      "*****\n",
      "*****\n",
      "*****\n",
      "*****\n",
      "*****\n",
      "*****\n",
      "*****\n",
      "*****\n",
      "\n"
     ]
    }
   ],
   "source": [
    "n , m = 5 , 9\n",
    "print(((\"*\" * n) + \"\\n\") * m) # 문자열에 * 연산자를 사용하여 출력"
   ]
  },
  {
   "cell_type": "markdown",
   "id": "260d3b1e",
   "metadata": {},
   "source": [
    "# 이스케이프 시퀀스 응용\n",
    "print() 함수를 한번만 사용해서 다음 문장을 출력하시오.\n",
    "\n",
    "###### \"파일은 c:\\Windows\\Users\\내문서\\Python 에 저장이 되었습니다.\"\n",
    "###### 나는 생각했다. 'cd를 써서 git bash로 들어가 봐야지.'"
   ]
  },
  {
   "cell_type": "code",
   "execution_count": 17,
   "id": "3ada409f",
   "metadata": {},
   "outputs": [
    {
     "name": "stdout",
     "output_type": "stream",
     "text": [
      "\"파일은 C:\\Windows\\Users\\내문서\\Python에 저장이 되었습니다.\" \n",
      "나는 생각했다. 'cd를 써서 git bash로 들어가 봐야지.' \n",
      "\"파일은 C:\\Windows\\Users\\내문서\\Python에 저장이 되었습니다.\" \n",
      "나는 생각했다. 'cd를 써서 git bash로 들어가 봐야지.'\n"
     ]
    }
   ],
   "source": [
    "print(\"\\\"파일은 C:\\\\Windows\\\\Users\\\\내문서\\\\Python에 저장이 되었습니다.\\\" \\n나는 생각했다. 'cd를 써서 git bash로 들어가 봐야지.' \")\n",
    "print('\"파일은 C:\\\\Windows\\\\Users\\\\내문서\\\\Python에 저장이 되었습니다.\" \\n나는 생각했다. \\'cd를 써서 git bash로 들어가 봐야지.\\'')"
   ]
  },
  {
   "cell_type": "markdown",
   "id": "e6dc66ff",
   "metadata": {},
   "source": [
    "# 근의 공식\n",
    "다음은 이차방정식의 근을 찾는 수식이다. 이를 파이썬 코드로 작성하시오.  \n",
    "'+' 일때 식, '-' 일때 식 을 따로 작성(2개를 작성)"
   ]
  },
  {
   "cell_type": "code",
   "execution_count": null,
   "id": "0522d8ee",
   "metadata": {},
   "outputs": [],
   "source": [
    "# + 일때 식\n",
    "(-b + (b**2 - 4*a*c)**(1/2)) / (2*a) # 루트를 사용할 때는 **(1/2)\n",
    "# - 일때 식\n",
    "(-b - (b**2 - 4*a*c)**(1/2)) / (2*a)"
   ]
  }
 ],
 "metadata": {
  "kernelspec": {
   "display_name": "Python 3 (ipykernel)",
   "language": "python",
   "name": "python3"
  },
  "language_info": {
   "codemirror_mode": {
    "name": "ipython",
    "version": 3
   },
   "file_extension": ".py",
   "mimetype": "text/x-python",
   "name": "python",
   "nbconvert_exporter": "python",
   "pygments_lexer": "ipython3",
   "version": "3.10.0"
  },
  "toc": {
   "base_numbering": 1,
   "nav_menu": {},
   "number_sections": true,
   "sideBar": true,
   "skip_h1_title": false,
   "title_cell": "Table of Contents",
   "title_sidebar": "Contents",
   "toc_cell": false,
   "toc_position": {},
   "toc_section_display": true,
   "toc_window_display": false
  }
 },
 "nbformat": 4,
 "nbformat_minor": 5
}
