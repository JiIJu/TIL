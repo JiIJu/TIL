{
 "cells": [
  {
   "cell_type": "markdown",
   "id": "7ed9fa19",
   "metadata": {},
   "source": [
    "# 문자 print\n",
    "```It's SSAFY 8``` 을 출력하는 프로그램을 작성하시오.(중간에 작은따옴표가 있다.)"
   ]
  },
  {
   "cell_type": "code",
   "execution_count": 2,
   "id": "0fb1fe96",
   "metadata": {},
   "outputs": [
    {
     "name": "stdout",
     "output_type": "stream",
     "text": [
      "It's SSAFY 8\n",
      "It's SSAFY 8\n"
     ]
    }
   ],
   "source": [
    "print(\"It's SSAFY 8\")\n",
    "print('It\\'s SSAFY 8')"
   ]
  },
  {
   "cell_type": "markdown",
   "id": "81d8cb22",
   "metadata": {},
   "source": [
    "# 숫자 print\n",
    "```458345 + 623576``` 을 계산하여 출력하는 프로그램을 작성하시오."
   ]
  },
  {
   "cell_type": "code",
   "execution_count": 3,
   "id": "7acf3c45",
   "metadata": {},
   "outputs": [
    {
     "name": "stdout",
     "output_type": "stream",
     "text": [
      "1081921\n"
     ]
    }
   ],
   "source": [
    "num1 = 458345\n",
    "num2 = 623576\n",
    "\n",
    "print(num1 + num2)"
   ]
  },
  {
   "cell_type": "markdown",
   "id": "d92e60cc",
   "metadata": {},
   "source": [
    "# 변수를 사용해서 데이터 출력하기\n",
    "두 변수 greeting, month 를 사용해서 Hello July를 출력하는 프로그램을 작성하시오."
   ]
  },
  {
   "cell_type": "code",
   "execution_count": 5,
   "id": "2a7ea8e6",
   "metadata": {},
   "outputs": [
    {
     "name": "stdout",
     "output_type": "stream",
     "text": [
      "Hello July\n"
     ]
    }
   ],
   "source": [
    "greeting = \"Hello\"\n",
    "month = \"July\"\n",
    "print(greeting, month)"
   ]
  },
  {
   "cell_type": "markdown",
   "id": "7cbbc247",
   "metadata": {},
   "source": [
    "# 문자형의 입력과 출력\n",
    "입력 받은 문자를 출력하는 프로그램을 작성하시오.\n",
    "(힌트 : input() 함수를 활용해서 데이터를 입력받는다.)"
   ]
  },
  {
   "cell_type": "code",
   "execution_count": 7,
   "id": "845163d5",
   "metadata": {},
   "outputs": [
    {
     "name": "stdout",
     "output_type": "stream",
     "text": [
      "문자를 입력해주세요.문자를 입력했습니다.\n",
      "문자를 입력했습니다.\n"
     ]
    }
   ],
   "source": [
    "word  = input(\"문자를 입력해주세요.\")\n",
    "print(word)"
   ]
  },
  {
   "cell_type": "code",
   "execution_count": null,
   "id": "93382912",
   "metadata": {},
   "outputs": [],
   "source": []
  }
 ],
 "metadata": {
  "kernelspec": {
   "display_name": "Python 3 (ipykernel)",
   "language": "python",
   "name": "python3"
  },
  "language_info": {
   "codemirror_mode": {
    "name": "ipython",
    "version": 3
   },
   "file_extension": ".py",
   "mimetype": "text/x-python",
   "name": "python",
   "nbconvert_exporter": "python",
   "pygments_lexer": "ipython3",
   "version": "3.10.0"
  },
  "toc": {
   "base_numbering": 1,
   "nav_menu": {},
   "number_sections": true,
   "sideBar": true,
   "skip_h1_title": false,
   "title_cell": "Table of Contents",
   "title_sidebar": "Contents",
   "toc_cell": false,
   "toc_position": {},
   "toc_section_display": true,
   "toc_window_display": false
  }
 },
 "nbformat": 4,
 "nbformat_minor": 5
}
