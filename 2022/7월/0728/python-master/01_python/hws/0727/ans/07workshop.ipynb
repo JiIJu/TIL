{
 "cells": [
  {
   "cell_type": "markdown",
   "metadata": {},
   "source": [
    "### 1. pip install faker\n",
    "\n",
    "무엇을 하는 명령어인가??\n",
    "- faker 패키지를 설치하기 위해 실행하는 명령어\n",
    "\n",
    "실행은 어디서 해야하는가??\n",
    "git bash\n",
    "(cmd, 파워쉘에서도 가능)"
   ]
  },
  {
   "cell_type": "code",
   "execution_count": 14,
   "metadata": {},
   "outputs": [
    {
     "data": {
      "text/plain": [
       "'Adrien Imbert'"
      ]
     },
     "execution_count": 14,
     "metadata": {},
     "output_type": "execute_result"
    }
   ],
   "source": [
    "from faker import Faker # Faker 클래스를 faker 패키지에서 불러오기 위한 코드\n",
    "\n",
    "fake = Faker(\"fr-FR\") # Faker 클래스 의 인스턴스를 생성 : fake는 Faker 클래스의 인스턴스이다.\n",
    "\n",
    "fake.name() # fake의 메서드 사용 : name() 은 fake의 메서드이다."
   ]
  },
  {
   "cell_type": "code",
   "execution_count": null,
   "metadata": {},
   "outputs": [],
   "source": [
    "class Faker():\n",
    "\n",
    "    def __init__(self, locale=\"en_US\"):\n",
    "        pass\n",
    "    \n",
    "# (a) = init\n",
    "# (b) = self\n",
    "# (c) = locale=\"en_Us\"\n",
    "\n",
    "fake = Faker(\"fr_FR\")"
   ]
  },
  {
   "cell_type": "code",
   "execution_count": 22,
   "metadata": {},
   "outputs": [
    {
     "name": "stdout",
     "output_type": "stream",
     "text": [
      "이진호\n",
      "강은주\n"
     ]
    }
   ],
   "source": [
    "fake1 = Faker(\"ko_KR\")\n",
    "Faker.seed(87654321) # 클래스 메서드\n",
    "# Faker 클래스 내부의 난수 생성 값을 클래스 변수로 설정\n",
    "# 설정한 후 생성된 모든 인스턴스가 해당 클래스 변수를 공유\n",
    "print(fake1.name())\n",
    "\n",
    "fake2 = Faker(\"ko_KR\")\n",
    "\n",
    "print(fake2.name())"
   ]
  },
  {
   "cell_type": "code",
   "execution_count": 44,
   "metadata": {},
   "outputs": [
    {
     "name": "stdout",
     "output_type": "stream",
     "text": [
      "이진호\n",
      "양경희\n"
     ]
    }
   ],
   "source": [
    "fake1 = Faker(\"ko_KR\")\n",
    "fake1.seed_instance(87654321) # seed_instance 는 인스턴스 변수를 수정하는 메서드\n",
    "# 인스턴스 메서드이다.\n",
    "\n",
    "print(fake1.name())\n",
    "\n",
    "fake2 = Faker(\"ko_KR\")\n",
    "\n",
    "print(fake2.name())"
   ]
  }
 ],
 "metadata": {
  "kernelspec": {
   "display_name": "Python 3.10.0 64-bit",
   "language": "python",
   "name": "python3"
  },
  "language_info": {
   "codemirror_mode": {
    "name": "ipython",
    "version": 3
   },
   "file_extension": ".py",
   "mimetype": "text/x-python",
   "name": "python",
   "nbconvert_exporter": "python",
   "pygments_lexer": "ipython3",
   "version": "3.10.0"
  },
  "orig_nbformat": 4,
  "vscode": {
   "interpreter": {
    "hash": "369f2c481f4da34e4445cda3fffd2e751bd1c4d706f27375911949ba6bb62e1c"
   }
  }
 },
 "nbformat": 4,
 "nbformat_minor": 2
}
