{
 "cells": [
  {
   "cell_type": "markdown",
   "id": "ebc257b5",
   "metadata": {},
   "source": [
    "## 2차원배열\n",
    "=> 1차원 배열을 묶어놓은 list (중첩)\n",
    "3=>N (행,열의 길이)\n",
    "1 2 3\n",
    "4 5 6\n",
    "7 8 9\n",
    "\n",
    "[[1,2,3],\n",
    "[4,5,6],\n",
    "[7,8,9]]\n",
    "\n"
   ]
  },
  {
   "cell_type": "code",
   "execution_count": 1,
   "id": "cb357b17",
   "metadata": {},
   "outputs": [
    {
     "name": "stdout",
     "output_type": "stream",
     "text": [
      "\n"
     ]
    },
    {
     "ename": "ValueError",
     "evalue": "invalid literal for int() with base 10: ''",
     "output_type": "error",
     "traceback": [
      "\u001b[0;31m---------------------------------------------------------------------------\u001b[0m",
      "\u001b[0;31mValueError\u001b[0m                                Traceback (most recent call last)",
      "Input \u001b[0;32mIn [1]\u001b[0m, in \u001b[0;36m<cell line: 1>\u001b[0;34m()\u001b[0m\n\u001b[0;32m----> 1\u001b[0m N \u001b[38;5;241m=\u001b[39m \u001b[38;5;28;43mint\u001b[39;49m\u001b[43m(\u001b[49m\u001b[38;5;28;43minput\u001b[39;49m\u001b[43m(\u001b[49m\u001b[43m)\u001b[49m\u001b[43m)\u001b[49m\n\u001b[1;32m      4\u001b[0m arr \u001b[38;5;241m=\u001b[39m [\u001b[38;5;28mlist\u001b[39m(\u001b[38;5;28mmap\u001b[39m(\u001b[38;5;28mint\u001b[39m,\u001b[38;5;28minput\u001b[39m()\u001b[38;5;241m.\u001b[39msplit())) \u001b[38;5;28;01mfor\u001b[39;00m _ \u001b[38;5;129;01min\u001b[39;00m \u001b[38;5;28mrange\u001b[39m(N)]\u001b[38;5;66;03m#2차원 배열\u001b[39;00m\n\u001b[1;32m      6\u001b[0m \u001b[38;5;66;03m# 행 우선순행 i,j\u001b[39;00m\n",
      "\u001b[0;31mValueError\u001b[0m: invalid literal for int() with base 10: ''"
     ]
    }
   ],
   "source": [
    "N = int(input())\n",
    "\n",
    "\n",
    "arr = [list(map(int,input().split())) for _ in range(N)]#2차원 배열\n",
    "\n",
    "# 행 우선순행 i,j\n",
    "\n",
    "max_value = 0\n",
    "\n",
    "for i in range(N):\n",
    "    for j in range(N):\n",
    "        max_value = arr[i][j] if max_value<arr[i][j] else max_value\n",
    "\n",
    "    "
   ]
  },
  {
   "cell_type": "markdown",
   "id": "dc6fee0b",
   "metadata": {},
   "source": [
    "di = [0,0,-1,1]\n",
    "dj = [-1,1,0,0]\n",
    "- 상 : 행-1 열 0\n",
    "- 하 : 행 +1 열 0\n",
    "- 좌 : 행 0 열 -1\n",
    "- 우 : 행 0 열 +1\n"
   ]
  },
  {
   "cell_type": "code",
   "execution_count": 2,
   "id": "3a662e25",
   "metadata": {},
   "outputs": [
    {
     "ename": "NameError",
     "evalue": "name 'i' is not defined",
     "output_type": "error",
     "traceback": [
      "\u001b[0;31m---------------------------------------------------------------------------\u001b[0m",
      "\u001b[0;31mNameError\u001b[0m                                 Traceback (most recent call last)",
      "Input \u001b[0;32mIn [2]\u001b[0m, in \u001b[0;36m<cell line: 6>\u001b[0;34m()\u001b[0m\n\u001b[1;32m      4\u001b[0m nj \u001b[38;5;241m=\u001b[39m\u001b[38;5;241m0\u001b[39m\n\u001b[1;32m      6\u001b[0m \u001b[38;5;28;01mfor\u001b[39;00m d \u001b[38;5;129;01min\u001b[39;00m \u001b[38;5;28mrange\u001b[39m(\u001b[38;5;241m4\u001b[39m):\n\u001b[0;32m----> 7\u001b[0m     ni \u001b[38;5;241m=\u001b[39m \u001b[43mi\u001b[49m \u001b[38;5;241m+\u001b[39mdi[d] \u001b[38;5;66;03m#다음 i\u001b[39;00m\n\u001b[1;32m      8\u001b[0m     nj \u001b[38;5;241m=\u001b[39m i \u001b[38;5;241m+\u001b[39mdj[d]\n",
      "\u001b[0;31mNameError\u001b[0m: name 'i' is not defined"
     ]
    }
   ],
   "source": [
    "di = [0,0,-1,1]\n",
    "dj = [-1,1,0,0]\n",
    "ni = 0\n",
    "nj =0\n",
    "\n",
    "for d in range(4):\n",
    "    ni = i +di[d] #다음 i\n",
    "    nj = i +dj[d] #다음 j"
   ]
  },
  {
   "cell_type": "code",
   "execution_count": 7,
   "id": "8031c1d4",
   "metadata": {},
   "outputs": [
    {
     "name": "stdout",
     "output_type": "stream",
     "text": [
      "44 91 64 73 62\n",
      "78 72 52 73 48\n",
      "44 88 55 75 24\n",
      "22 72 59 26 62\n",
      "87 11 64 79 40\n",
      "2244\n"
     ]
    }
   ],
   "source": [
    "arr = [list(map(int,input().split())) for _ in range(5)]\n",
    "\n",
    "di = [-1 ,1, 0, 0]\n",
    "dj = [0, 0 ,-1, 1]\n",
    "ni = 0\n",
    "nj = 0\n",
    "sum = 0\n",
    "\n",
    "for i in range(5):\n",
    "    for j in range(5):\n",
    "        for k in range(4):\n",
    "            ni = i + di[k]\n",
    "            nj = j + dj[k]\n",
    "            if 0<=ni<5 and 0<=nj<5:\n",
    "                sum += abs(arr[i][j]-arr[ni][nj])\n",
    "print(sum)"
   ]
  },
  {
   "cell_type": "code",
   "execution_count": null,
   "id": "954be382",
   "metadata": {},
   "outputs": [],
   "source": []
  }
 ],
 "metadata": {
  "kernelspec": {
   "display_name": "Python 3 (ipykernel)",
   "language": "python",
   "name": "python3"
  },
  "language_info": {
   "codemirror_mode": {
    "name": "ipython",
    "version": 3
   },
   "file_extension": ".py",
   "mimetype": "text/x-python",
   "name": "python",
   "nbconvert_exporter": "python",
   "pygments_lexer": "ipython3",
   "version": "3.9.12"
  }
 },
 "nbformat": 4,
 "nbformat_minor": 5
}
