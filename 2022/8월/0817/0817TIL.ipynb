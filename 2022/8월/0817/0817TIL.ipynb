{
 "cells": [
  {
   "cell_type": "markdown",
   "metadata": {},
   "source": [
    "- 삽입 : 저장소에 자료를 저장한다. 보통 push라고 부른다.\n",
    "\n",
    "- 삭제 : 저장소에서 자료를 꺼낸다. 꺼낸 자료는 삽입한 자료의 역순으로 꺼낸다. pop이라고 부른다.\n",
    "- 스택이 공백인지 아닌지를 확인하는 연산. isEmpty\n",
    "\n",
    "- 스택의 top에 있는 item을 반환하는 연산. peek(삭제x)\n",
    "\n",
    "- top은 -1부터 시작"
   ]
  },
  {
   "cell_type": "code",
   "execution_count": null,
   "metadata": {},
   "outputs": [],
   "source": [
    "def push(item):     #스택의 push 알고리즘\n",
    "    s.append(item)"
   ]
  },
  {
   "cell_type": "code",
   "execution_count": null,
   "metadata": {},
   "outputs": [],
   "source": [
    "def pop():\n",
    "    if len(s) == 0:\n",
    "    #underflow\n",
    "        return\n",
    "    else:\n",
    "        return s.pop(-1)"
   ]
  }
 ],
 "metadata": {
  "kernelspec": {
   "display_name": "Python 3.8.9 64-bit",
   "language": "python",
   "name": "python3"
  },
  "language_info": {
   "name": "python",
   "version": "3.8.9"
  },
  "orig_nbformat": 4,
  "vscode": {
   "interpreter": {
    "hash": "31f2aee4e71d21fbe5cf8b01ff0e069b9275f58929596ceb00d14d90e3e16cd6"
   }
  }
 },
 "nbformat": 4,
 "nbformat_minor": 2
}
