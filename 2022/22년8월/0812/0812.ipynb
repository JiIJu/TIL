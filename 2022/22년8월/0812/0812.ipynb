{
 "cells": [
  {
   "cell_type": "markdown",
   "id": "080a19dd",
   "metadata": {
    "vscode": {
     "languageId": "plaintext"
    }
   },
   "source": [
    "## 16진수\n",
    "\n",
    "- 1 , 2 , 3, 4,5,6,7,8,9,A,B,C,D,E,F\n",
    "\n",
    "- AB01 ==> 16^3*10 + 16^2 * 11 + 1"
   ]
  },
  {
   "cell_type": "code",
   "execution_count": 5,
   "id": "0587c948",
   "metadata": {},
   "outputs": [
    {
     "data": {
      "text/plain": [
       "43777"
      ]
     },
     "execution_count": 5,
     "metadata": {},
     "output_type": "execute_result"
    }
   ],
   "source": [
    "16**3*10 + 16**2*11 + 1"
   ]
  },
  {
   "cell_type": "markdown",
   "id": "3c44d7d7",
   "metadata": {},
   "source": [
    "### 최대공배수 , 최대공약수 , 소수\n",
    "\n",
    "- 최대공배수 : 두수의 서로 공통으로 존재하는 배수(공배수)중 작은수\n",
    "- 최대공약수 : 두수의 서로 공통으로 존재하는 약수(공약수)중 큰수\n",
    "- 소수 : 약수가 1 또는 자기 자신밖에 없는 숫자(Prime number)\n",
    "\n",
    "- 최소공배수를 구하는 방법\n",
    "- 최대공약수를 구하는 방법\n",
    "- 소수인지 아닌지 판별하는 방법\n",
    "\n",
    "\n",
    "## 유클리드 호제법\n",
    "\n",
    "- 2개의 자연수 a , b(a>b)에 대해서 a를 b로 나눈 나머지가 r일때 , a와 b의 최대공약수는 b와r의 최대공약수와 같다. 이 과정을 반복해서 나머지가 0이 되었을 때 , 이때 나누는 수가 a와 b의 최대공약수 이다.\n",
    "\n",
    "- 최소공배수의 성질\n",
    "    - 두수 a와 b의 최소공배수는 a와b의 곱을 a와b의 최대공약수로 나눈것과 같다.\n",
    "```python\n",
    "#least common multiple : lcm\n",
    "def lcm(a,b):\n",
    "    return a*b//gcd(a,b)\n",
    "\n",
    "```"
   ]
  },
  {
   "cell_type": "code",
   "execution_count": null,
   "id": "fff19e52",
   "metadata": {},
   "outputs": [],
   "source": [
    "#최대공약수 구하기\n",
    "#gcd : greates common divisor\n",
    "def gcd(a,b): # a>b\n",
    "    r = 0 # 나머지\n",
    "    # a를 나누어 떨어질 때 까지 나눈다.\n",
    "    while b!=0:\n",
    "        r = a%b\n",
    "        a = b\n",
    "        b = r\n",
    "    return a\n",
    "\n",
    "#least common multiple : lcm\n",
    "def lcm(a,b):\n",
    "    return a*b//gcd(a,b)\n",
    "print(lcm(20,25))"
   ]
  },
  {
   "cell_type": "markdown",
   "id": "c12034b0",
   "metadata": {},
   "source": [
    "## 소수 구하는 방법 (소수인지 확인하는 방법)\n",
    "\n"
   ]
  },
  {
   "cell_type": "code",
   "execution_count": null,
   "id": "d636294d",
   "metadata": {},
   "outputs": [],
   "source": [
    "#숫자 n이 소수이면 True리턴 , 소수가 아니면 False 리턴\n",
    "# 소수인지 판별하는 방법은 1부터 n까지 나눴을 때 약수가 1또는 자기 자신밖에 없으면 소수\n",
    "def is_prime(n):\n",
    "    count =0\n",
    "    for i in range(2,n//2+1):\n",
    "        if n%i == 0:\n",
    "            count +=1\n",
    "        if count >0:\n",
    "            break\n",
    "    if count==0:\n",
    "        return True\n",
    "    else:\n",
    "        return False\n",
    "    "
   ]
  },
  {
   "cell_type": "code",
   "execution_count": null,
   "id": "94989e79",
   "metadata": {},
   "outputs": [],
   "source": []
  }
 ],
 "metadata": {
  "kernelspec": {
   "display_name": "Python 3 (ipykernel)",
   "language": "python",
   "name": "python3"
  },
  "language_info": {
   "codemirror_mode": {
    "name": "ipython",
    "version": 3
   },
   "file_extension": ".py",
   "mimetype": "text/x-python",
   "name": "python",
   "nbconvert_exporter": "python",
   "pygments_lexer": "ipython3",
   "version": "3.10.5"
  }
 },
 "nbformat": 4,
 "nbformat_minor": 5
}
