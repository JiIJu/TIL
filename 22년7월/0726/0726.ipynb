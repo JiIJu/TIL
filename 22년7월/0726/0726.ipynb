{
 "cells": [
  {
   "cell_type": "markdown",
   "id": "9561f482",
   "metadata": {},
   "source": [
    "## 1. 평균점수 구하기\n",
    "\n",
    "key값으로 과목명,value값으로 점수를 가지는 딕셔너리를 전달받아서, 전체 과목의 평균 점수를 반환하는 함수 get_dict_avg함수를 작성하시오."
   ]
  },
  {
   "cell_type": "code",
   "execution_count": 3,
   "id": "84db9265",
   "metadata": {},
   "outputs": [],
   "source": [
    "def get_dict_avg(student): # student는 딕셔너리고 , 과목의 점수 정보가 키,값 쌍으로 주어진다.\n",
    "    scores = [] #딕셔너리 안의 점수만 가져와서 리스트에 저장\n",
    "    \n",
    "    for score in student.values():\n",
    "        # 딕셔너리 안의 값만 가져와서 리스트에 추가\n",
    "        scores.append(score)\n",
    "        \n",
    "        #평균을 계산해서 return\n",
    "    result = sum(scores)/len(scores)\n",
    "    return result"
   ]
  },
  {
   "cell_type": "code",
   "execution_count": 5,
   "id": "3478b652",
   "metadata": {},
   "outputs": [
    {
     "name": "stdout",
     "output_type": "stream",
     "text": [
      "83.33333333333333\n"
     ]
    }
   ],
   "source": [
    "print(get_dict_avg({'python':80 , 'algorithm' : 90 , 'django' : 80}))"
   ]
  },
  {
   "cell_type": "markdown",
   "id": "2ed08d3b",
   "metadata": {},
   "source": [
    "## 2. 혈액형 분류하기\n",
    "\n",
    "여러 사람의 혈액형(A,B,AB,O)에 대한 정보가 담긴 list를 전달 받아서, key는 혈액형의 종류, value는 사람 수인 dictionary를 반환하는 count_blood 함수를 작성하시오\n"
   ]
  },
  {
   "cell_type": "code",
   "execution_count": 10,
   "id": "d246671b",
   "metadata": {},
   "outputs": [],
   "source": [
    "def count_blood(blood_types): # blood_type : 혈액형 정보가 담긴 리스트\n",
    "    blood_dict = {} #우리가 만들어서 반환할 딕셔너리\n",
    "    \n",
    "    for blood in blood_types:\n",
    "        #만약 딕셔너리 안에 혈액형이 있다면 (혈액형 키가 있다면)\n",
    "        if blood_dict.get(blood):\n",
    "            blood_dict[blood] += 1\n",
    "            #만약 딕셔너리 안에 혈액형이 없다면 (혈액형 키가 없다면)\n",
    "        else:\n",
    "            blood_dict[blood] = 1\n",
    "    return blood_dict\n",
    "#get() 함수의 두번째 인자를 사용해서 더 짧은 코드로 구현하기\n",
    "def count_blood2(blood_types):\n",
    "    blood_dict = {}\n",
    "    for blood in blood_types:\n",
    "        #get()함수의 두번째 인자를 사용한다.\n",
    "        #get()함수의 두번째 인자의 역할 : 첫번 째 인자로 key를 제공하는데 , 그 key에 해당하는 value가 없을 때, 기본값을 사용하도록 해줄 수 있다.\n",
    "        blood_dict[blood] = blood_dict.get(blood,0) +1\n",
    "    return blood_dict"
   ]
  },
  {
   "cell_type": "code",
   "execution_count": 11,
   "id": "184517a5",
   "metadata": {},
   "outputs": [
    {
     "name": "stdout",
     "output_type": "stream",
     "text": [
      "{'A': 1, 'B': 2, 'O': 1, 'AB': 1}\n",
      "{'A': 1, 'B': 2, 'O': 1, 'AB': 1}\n"
     ]
    }
   ],
   "source": [
    "print(count_blood(['A','B','O','AB','B']))\n",
    "print(count_blood2(['A','B','O','AB','B']))"
   ]
  },
  {
   "cell_type": "markdown",
   "id": "70518bb6",
   "metadata": {},
   "source": [
    "## 1. 모음은 몇개나 있을까?\n"
   ]
  },
  {
   "cell_type": "code",
   "execution_count": 13,
   "id": "96f4fe82",
   "metadata": {},
   "outputs": [],
   "source": [
    "def count_vowels(word) : #word : 모음의 갯수를 알고싶은 문자열\n",
    "        # 모음\n",
    "        vowels = 'aeiou'\n",
    "        result = 0\n",
    "        #반복문을 통해서 word안에 모음이 몇개 있는지 알아내기\n",
    "        for vowel in vowels:\n",
    "            result += word.count(vowel) #word안에 모음이 몇개 있는지 센 다음 더해서 저장한다.\n",
    "        return result"
   ]
  },
  {
   "cell_type": "code",
   "execution_count": 15,
   "id": "4a96a38c",
   "metadata": {},
   "outputs": [
    {
     "name": "stdout",
     "output_type": "stream",
     "text": [
      "7\n"
     ]
    }
   ],
   "source": [
    "print(count_vowels('aeiouqweqwe'))"
   ]
  },
  {
   "cell_type": "markdown",
   "id": "4a451628",
   "metadata": {},
   "source": [
    "## 2. 문자열 다루기"
   ]
  },
  {
   "cell_type": "code",
   "execution_count": 19,
   "id": "f57cf925",
   "metadata": {},
   "outputs": [
    {
     "name": "stdout",
     "output_type": "stream",
     "text": [
      "kurassic\n",
      "juratsic\n"
     ]
    }
   ],
   "source": [
    "print('jurassic'.replace('j','k'))\n",
    "print('jurassic'.replace('s','t',1)) # 3번째 인자는 선택 , 바꿀 문자열을 모두 바꿀건지 , 아니면 바꾸고 싶은 개수만큼 바꿀건지."
   ]
  },
  {
   "cell_type": "markdown",
   "id": "79df2752",
   "metadata": {},
   "source": [
    "## 3. 정사각형 만들기"
   ]
  },
  {
   "cell_type": "code",
   "execution_count": 24,
   "id": "2d3f76f1",
   "metadata": {},
   "outputs": [],
   "source": [
    "def only_square_area(widths,heights):\n",
    "    #widths : 너비들이 들어있는 리스트\n",
    "    #heights : 높이들이 들어있는 리스트\n",
    "    \n",
    "    # 정사각형의 넓이를 구해서 리턴할 리스트\n",
    "    square_list = []\n",
    "    for width in widths: # 너비를 모두 순회한다.\n",
    "        for height in heights: # 높이를 모두 순회한다.\n",
    "            if width == height:\n",
    "                square_list.append(width*height) # 정사각형의 넓이를 구해서 저장\n",
    "    return square_list"
   ]
  },
  {
   "cell_type": "code",
   "execution_count": 25,
   "id": "9d266bbe",
   "metadata": {},
   "outputs": [
    {
     "name": "stdout",
     "output_type": "stream",
     "text": [
      "[100, 2500]\n"
     ]
    }
   ],
   "source": [
    "print(only_square_area([10,20,30,50],[123,10,24,50]))"
   ]
  },
  {
   "cell_type": "code",
   "execution_count": null,
   "id": "c4eea7e8",
   "metadata": {},
   "outputs": [],
   "source": []
  }
 ],
 "metadata": {
  "kernelspec": {
   "display_name": "Python 3 (ipykernel)",
   "language": "python",
   "name": "python3"
  },
  "language_info": {
   "codemirror_mode": {
    "name": "ipython",
    "version": 3
   },
   "file_extension": ".py",
   "mimetype": "text/x-python",
   "name": "python",
   "nbconvert_exporter": "python",
   "pygments_lexer": "ipython3",
   "version": "3.9.13"
  }
 },
 "nbformat": 4,
 "nbformat_minor": 5
}
