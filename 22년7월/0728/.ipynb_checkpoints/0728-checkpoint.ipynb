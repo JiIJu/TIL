{
 "cells": [
  {
   "cell_type": "markdown",
   "id": "4b6acfee",
   "metadata": {},
   "source": [
    "### 1. pip install faker\n",
    "\n",
    "무엇을 하는 명령어인가?\n",
    "- faker 패키지를 사용하기위한 명령\n",
    "\n",
    "실행은 어디서 해야하는가?\n",
    "git bash\n",
    "(cmd,파워셀에서도 가능)"
   ]
  },
  {
   "cell_type": "code",
   "execution_count": 2,
   "id": "69a18a95",
   "metadata": {},
   "outputs": [
    {
     "data": {
      "text/plain": [
       "'Wayne Johnson'"
      ]
     },
     "execution_count": 2,
     "metadata": {},
     "output_type": "execute_result"
    }
   ],
   "source": [
    "from faker import Faker #Faker 클래스를 faker 패키지에서 불러오기 위한 코드\n",
    "\n",
    "fake = Faker() #Faker 클래스의 인스턴스를 생성 : fake는 Faker 클래스의 인스턴스이다.\n",
    "\n",
    "fake.name() #fake의 메서드 사용 : name()은 fake의 메서드이다."
   ]
  },
  {
   "cell_type": "code",
   "execution_count": 13,
   "id": "d15607fd",
   "metadata": {},
   "outputs": [
    {
     "ename": "IndentationError",
     "evalue": "expected an indented block (152566881.py, line 7)",
     "output_type": "error",
     "traceback": [
      "\u001b[1;36m  Input \u001b[1;32mIn [13]\u001b[1;36m\u001b[0m\n\u001b[1;33m    fake = Faker('ko_KR')\u001b[0m\n\u001b[1;37m                         ^\u001b[0m\n\u001b[1;31mIndentationError\u001b[0m\u001b[1;31m:\u001b[0m expected an indented block\n"
     ]
    }
   ],
   "source": [
    "class Faker():\n",
    "\n",
    "    def __init__(self,locale='en_US'):\n",
    "\n",
    "    #(a) = init (b) self (c) locale\n",
    "    \n",
    "fake = Faker('ko_KR')\n"
   ]
  },
  {
   "cell_type": "code",
   "execution_count": 10,
   "id": "09108b36",
   "metadata": {},
   "outputs": [
    {
     "name": "stdout",
     "output_type": "stream",
     "text": [
      "이진호\n",
      "강은주\n"
     ]
    }
   ],
   "source": [
    "fake1 = Faker('ko_KR')\n",
    "Faker.seed(87654321)\n",
    "#Faker 클래스 내부의 난수 생성 값을 클래스 변수로 설정\n",
    "#설정한 후 생성된 모든 인스턴스가 해당 클래스 변수를 공유\n",
    "print(fake1.name())\n",
    "\n",
    "fake2 = Faker('ko_KR')\n",
    "print(fake2.name())"
   ]
  },
  {
   "cell_type": "code",
   "execution_count": null,
   "id": "ca653ffd",
   "metadata": {},
   "outputs": [],
   "source": []
  }
 ],
 "metadata": {
  "kernelspec": {
   "display_name": "Python 3 (ipykernel)",
   "language": "python",
   "name": "python3"
  },
  "language_info": {
   "codemirror_mode": {
    "name": "ipython",
    "version": 3
   },
   "file_extension": ".py",
   "mimetype": "text/x-python",
   "name": "python",
   "nbconvert_exporter": "python",
   "pygments_lexer": "ipython3",
   "version": "3.9.13"
  }
 },
 "nbformat": 4,
 "nbformat_minor": 5
}
