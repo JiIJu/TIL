{
 "cells": [
  {
   "cell_type": "markdown",
   "metadata": {},
   "source": [
    "## 1. Mutable & Immutable\n",
    "\n",
    "- 제시된 컨테이너들을 각각 변경 가능한것(mutable)과 변경 불가능한 것(immutable)으로 분류하시오.\n",
    "\n",
    "string, tuple, range ==> immutable  \n",
    "list, set, dictionary ==> mutable  "
   ]
  },
  {
   "cell_type": "markdown",
   "metadata": {},
   "source": [
    "## 2. Dictionary 만들기\n",
    "\n",
    "- 반 학생들의 정보를 이용해서 key는 이름, value는 나이인 dictionary를 만드시오."
   ]
  },
  {
   "cell_type": "code",
   "execution_count": 1,
   "metadata": {},
   "outputs": [],
   "source": [
    "student_dict = {\n",
    "    \"홍길동\" : 30,\n",
    "    \"토르\" : 1500\n",
    "}"
   ]
  },
  {
   "cell_type": "markdown",
   "metadata": {},
   "source": [
    "## 3. 평균 구하기\n",
    "\n",
    "- 제시된 list의 평균 값을 출력하시오."
   ]
  },
  {
   "cell_type": "code",
   "execution_count": 3,
   "metadata": {},
   "outputs": [
    {
     "name": "stdout",
     "output_type": "stream",
     "text": [
      "87.75\n",
      "87.75\n"
     ]
    }
   ],
   "source": [
    "scores = [80, 89, 99, 83]\n",
    "\n",
    "sum_scores = sum(scores)\n",
    "sum_count = len(scores)\n",
    "\n",
    "avg_scores = sum_scores / sum_count\n",
    "print(avg_scores)\n",
    "\n",
    "result = 0 # 누적 점수의 합을 저장하는 변수\n",
    "for score in scores:\n",
    "    result += score \n",
    "print(result / len(scores))\n"
   ]
  }
 ],
 "metadata": {
  "kernelspec": {
   "display_name": "Python 3.10.0 64-bit",
   "language": "python",
   "name": "python3"
  },
  "language_info": {
   "codemirror_mode": {
    "name": "ipython",
    "version": 3
   },
   "file_extension": ".py",
   "mimetype": "text/x-python",
   "name": "python",
   "nbconvert_exporter": "python",
   "pygments_lexer": "ipython3",
   "version": "3.10.0"
  },
  "orig_nbformat": 4,
  "vscode": {
   "interpreter": {
    "hash": "369f2c481f4da34e4445cda3fffd2e751bd1c4d706f27375911949ba6bb62e1c"
   }
  }
 },
 "nbformat": 4,
 "nbformat_minor": 2
}
