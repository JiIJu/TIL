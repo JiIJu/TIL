{
 "cells": [
  {
   "cell_type": "markdown",
   "metadata": {},
   "source": [
    "## 1. 숫자의 입력과 출력\n",
    "\n",
    "입력 받은 데이터를 숫자로 변환하고, 덧셈해서 출력하는 프로그램을 작성하시오.\n",
    "(힌트 : input() 함수를 활용해서 데이터를 입력받을 수 있다.)\n",
    "\n",
    "입력으로 숫자를 2번  \n",
    "\n",
    "출력으로 숫자를 계산하여 그 결과  \n",
    "\n",
    "입력예시  \n",
    "6374  \n",
    "8729  \n",
    "\n",
    "출력예시  \n",
    "15103  "
   ]
  },
  {
   "cell_type": "code",
   "execution_count": 1,
   "metadata": {},
   "outputs": [
    {
     "name": "stdout",
     "output_type": "stream",
     "text": [
      "30\n"
     ]
    }
   ],
   "source": [
    "a = int(input()) # input() 함수는 입력한것을 모두 문자열로 처리 ==> 숫자로 바꿔줘야 덧셈이 가능\n",
    "b = int(input())\n",
    "\n",
    "print(a+b)"
   ]
  },
  {
   "cell_type": "markdown",
   "metadata": {},
   "source": [
    "## 2. Dictionary 를 활용해서 평균 구하기\n",
    "\n",
    "좋아하는 점심메뉴를 이용하여 key는 메뉴, value는 가격인 dictionary를 만들고, 점심메뉴의 평균 값을 출력하시오."
   ]
  },
  {
   "cell_type": "code",
   "execution_count": 2,
   "metadata": {},
   "outputs": [
    {
     "name": "stdout",
     "output_type": "stream",
     "text": [
      "4000.0\n"
     ]
    }
   ],
   "source": [
    "lunch = { \"김밥\" : 3000 , \"햄버거\" : 5000 , \"떡볶이\" : 4000 }\n",
    "\n",
    "avg_lunch = (lunch[\"김밥\"] + lunch[\"햄버거\"] + lunch[\"떡볶이\"]) / 3\n",
    "\n",
    "print(sum(lunch.values()) / len(lunch.keys()))"
   ]
  }
 ],
 "metadata": {
  "kernelspec": {
   "display_name": "Python 3.10.0 64-bit",
   "language": "python",
   "name": "python3"
  },
  "language_info": {
   "codemirror_mode": {
    "name": "ipython",
    "version": 3
   },
   "file_extension": ".py",
   "mimetype": "text/x-python",
   "name": "python",
   "nbconvert_exporter": "python",
   "pygments_lexer": "ipython3",
   "version": "3.10.0"
  },
  "orig_nbformat": 4,
  "vscode": {
   "interpreter": {
    "hash": "369f2c481f4da34e4445cda3fffd2e751bd1c4d706f27375911949ba6bb62e1c"
   }
  }
 },
 "nbformat": 4,
 "nbformat_minor": 2
}
