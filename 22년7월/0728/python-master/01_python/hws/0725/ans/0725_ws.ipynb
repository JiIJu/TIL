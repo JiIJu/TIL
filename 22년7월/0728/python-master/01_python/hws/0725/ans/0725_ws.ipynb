{
 "cells": [
  {
   "cell_type": "markdown",
   "metadata": {},
   "source": [
    "## 1. 평균 점수 구하기\n",
    "\n",
    "key 값으로 과목명, value값으로 점수를 가지는 딕셔너리를 전달받아서, 전체 과목의 평균 점수를 반환하는  \n",
    "함수 get_dict_avg 함수를 작성하시오.  "
   ]
  },
  {
   "cell_type": "code",
   "execution_count": 3,
   "metadata": {},
   "outputs": [
    {
     "name": "stdout",
     "output_type": "stream",
     "text": [
      "85.5\n",
      "None\n"
     ]
    }
   ],
   "source": [
    "\n",
    "def get_dict_avg(student): # student는 딕셔너리고, 과목의 점수 정보가 키-값 쌍으로 주어진다.\n",
    "    scores = [] # 딕셔너리 안의 점수만 가져와서 리스트에 저장\n",
    "\n",
    "    for score in student.values():\n",
    "        # 딕셔너리 안의 값만 가져와서 리스트에 추가\n",
    "        scores.append(score)\n",
    "\n",
    "    # 평균을 계산해서 return\n",
    "    result = sum(scores) / len(student)\n",
    "    return result\n",
    "    # sum(student.values()) / len(student.keys())\n",
    "\n",
    "student = { \"python\":80 , \"web\" : 83, \"algorithm\" : 90, \"django\" : 89}\n",
    "print(get_dict_avg(student))"
   ]
  },
  {
   "cell_type": "markdown",
   "metadata": {},
   "source": [
    "## 2. 혈액형 분류하기\n",
    "\n",
    "여러 사람의 혈액형(A, B, AB, O)에 대한 정보가 담긴 list를 전달 받아서, key는 혈액형의 종류,  \n",
    "value는 사람 수인 dictionary를 반환하는 count_blood 함수를 작성하시오.  "
   ]
  },
  {
   "cell_type": "code",
   "execution_count": null,
   "metadata": {},
   "outputs": [],
   "source": [
    "\n",
    "def count_blood(blood_types) : # blood_type : 혈액형 정보가 담긴 리스트\n",
    "    blood_dict = {} # 우리가 만들어서 반환할 딕셔너리\n",
    "\n",
    "    for blood in blood_types:\n",
    "        # 만약 딕셔너리 안에 혈액형이 있다면 ( 혈액형 키가 있다면 )\n",
    "        if blood_dict.get(blood):\n",
    "            blood_dict[blood] += 1\n",
    "        # 만약 딕셔너리 안에 혈액형이 없다면 ( 혈액형 키가 없다면)\n",
    "        else:\n",
    "            blood_dict[blood] = 1\n",
    "    return blood_dict\n",
    "\n",
    "# get() 함수의 두번째 인자를 사용해서 더 짧은 코드로 구현하기\n",
    "def count_blood2(blood_types) :\n",
    "    blood_dict = {}\n",
    "\n",
    "    for blood in blood_types:\n",
    "        # get() 함수의 두번째 인자를 사용한다.\n",
    "        # get() 함수의 두번째 인자의 역할 : 첫번째 인자로 key를 제공하는데, 그 key 에 해당하는 value가 없을때,\n",
    "        # 기본값을 사용하도록 해줄 수 있다.\n",
    "        blood_dict[blood] = blood_dict.get(blood, 0) + 1\n",
    "\n",
    "    return blood_dict"
   ]
  }
 ],
 "metadata": {
  "kernelspec": {
   "display_name": "Python 3.10.0 64-bit",
   "language": "python",
   "name": "python3"
  },
  "language_info": {
   "codemirror_mode": {
    "name": "ipython",
    "version": 3
   },
   "file_extension": ".py",
   "mimetype": "text/x-python",
   "name": "python",
   "nbconvert_exporter": "python",
   "pygments_lexer": "ipython3",
   "version": "3.10.0"
  },
  "orig_nbformat": 4,
  "vscode": {
   "interpreter": {
    "hash": "369f2c481f4da34e4445cda3fffd2e751bd1c4d706f27375911949ba6bb62e1c"
   }
  }
 },
 "nbformat": 4,
 "nbformat_minor": 2
}
