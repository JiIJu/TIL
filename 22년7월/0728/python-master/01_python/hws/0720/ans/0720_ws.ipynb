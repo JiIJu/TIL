{
 "cells": [
  {
   "cell_type": "markdown",
   "metadata": {},
   "source": [
    "## 1. 세로로 출력하기\n",
    "\n",
    "자연수 number를 입력받아, 1부터 number까지의 수를 세로로 한줄씩 출력하시오.\n",
    "\n",
    "[입력]  \n",
    "10  \n",
    "\n",
    "[출력]  \n",
    "1  \n",
    "2  \n",
    "3  \n",
    "4  \n",
    "5  \n",
    "6  \n",
    "7  \n",
    "8  \n",
    "9  \n",
    "10  \n"
   ]
  },
  {
   "cell_type": "code",
   "execution_count": 1,
   "metadata": {},
   "outputs": [
    {
     "name": "stdout",
     "output_type": "stream",
     "text": [
      "1\n",
      "2\n",
      "3\n",
      "4\n",
      "5\n"
     ]
    }
   ],
   "source": [
    "number = int(input())\n",
    "\n",
    "for i in range(1, number+1): # range(1, number+1) ==> 1,2,3, ... number\n",
    "    print(i)"
   ]
  },
  {
   "cell_type": "markdown",
   "metadata": {},
   "source": [
    "## 2. 가로로 출력하기\n",
    "\n",
    "자연수 number 를 입력받아서, 1부터 number 까지의 수를 가로로 한칸씩 띄어서 출력하시오.  \n",
    "\n",
    "[입력]  \n",
    "10  \n",
    "\n",
    "[출력]  \n",
    "1 2 3 4 5 6 7 8 9 10  "
   ]
  },
  {
   "cell_type": "code",
   "execution_count": 2,
   "metadata": {},
   "outputs": [
    {
     "name": "stdout",
     "output_type": "stream",
     "text": [
      "1 2 3 4 5 6 7 8 9 10 "
     ]
    }
   ],
   "source": [
    "number = int(input())\n",
    "\n",
    "for i in range(1, number+1):\n",
    "    print(i , end=\" \") # end 라는 인수에는 값을 \" \" 으로 지정해서 준다. 키워드인자"
   ]
  },
  {
   "cell_type": "markdown",
   "metadata": {},
   "source": [
    "## 3. 거꾸로 세로로 출력하기\n",
    "\n",
    "자연수 number를 입력받아서 number부터 0까지의 수를 세로로 한줄씩 출력하시오.  \n",
    "\n",
    "[입력]  \n",
    "5  \n",
    "\n",
    "[출력]  \n",
    "5  \n",
    "4  \n",
    "3  \n",
    "2  \n",
    "1  \n",
    "0  "
   ]
  },
  {
   "cell_type": "code",
   "execution_count": 10,
   "metadata": {},
   "outputs": [
    {
     "name": "stdout",
     "output_type": "stream",
     "text": [
      "4\n",
      "3\n",
      "2\n",
      "1\n",
      "0\n",
      "함수실행\n",
      "함수2 실행\n"
     ]
    }
   ],
   "source": [
    "number = int(input())\n",
    "\n",
    "for i in range(number, -1, -1): # 5 4 3 2 1 0 // -1\n",
    "    print(i)\n",
    "\n"
   ]
  },
  {
   "cell_type": "markdown",
   "metadata": {},
   "source": [
    "## 4. 거꾸로 출력해 보아요 (SWEA # 1545)\n",
    "\n",
    "자연수 number를 입력받아서, number 부터 0까지 가로로 한칸씩 띄어 출력하기  \n",
    "\n",
    "[입력]  \n",
    "5  \n",
    "\n",
    "[출력]\n",
    "5 4 3 2 1 0"
   ]
  },
  {
   "cell_type": "code",
   "execution_count": 11,
   "metadata": {},
   "outputs": [
    {
     "name": "stdout",
     "output_type": "stream",
     "text": [
      "5 4 3 2 1 0 "
     ]
    }
   ],
   "source": [
    "number = int(input())\n",
    "\n",
    "for i in range(number, -1, -1):\n",
    "    print(i , end=\" \") # end = 출력하고 끝에 붙여주세요 (기본값 : 줄바꿈)"
   ]
  },
  {
   "cell_type": "markdown",
   "metadata": {},
   "source": [
    "## 5. N줄 덧셈 (SWEA #2025)\n",
    "\n",
    "입력으로 자연수 number가 주어질때, 1부터 주어진 자연수 number까지를 모두 더한 값을 출력하시오.  \n",
    "단, 주어지는 숫자는 10000을 넘지 않는다. 예를 들어, 주어진 숫자가 10일 경우에는  \n",
    "1 + 2 + 3 + 4 + 5 + 6 + 7 + 8 + 9 + 10 = 55 이므로, 출력해야하는 값은 55이다.  "
   ]
  },
  {
   "cell_type": "code",
   "execution_count": 12,
   "metadata": {},
   "outputs": [
    {
     "name": "stdout",
     "output_type": "stream",
     "text": [
      "55\n"
     ]
    }
   ],
   "source": [
    "number = int(input())\n",
    "\n",
    "total = 0 # 누적으로 합을 저장할 변수\n",
    "# 0 + 1\n",
    "# (0 + 1) + 2\n",
    "# (0 + 1 + 2) + 3\n",
    "# ...\n",
    "for i in range(1, number+1):\n",
    "    total = total + i\n",
    "\n",
    "print(total)"
   ]
  },
  {
   "cell_type": "markdown",
   "metadata": {},
   "source": [
    "## 6. 삼각형 출력하기\n",
    "\n",
    "자연수 number를 입력받아서 높이가 number인 삼각형을 출력하시오.\n",
    "\n",
    "[입력]  \n",
    "3  \n",
    "\n",
    "[출력]  \n",
    "&nbsp;&nbsp;&nbsp;&nbsp;&nbsp;&nbsp;&nbsp;\\*  \n",
    "&nbsp;&nbsp;&nbsp;&nbsp;&nbsp;&nbsp;\\**  \n",
    "&nbsp;&nbsp;&nbsp;&nbsp;&nbsp;\\***  \n",
    "\n"
   ]
  },
  {
   "cell_type": "code",
   "execution_count": 21,
   "metadata": {},
   "outputs": [
    {
     "name": "stdout",
     "output_type": "stream",
     "text": [
      "*\n",
      "**\n",
      "***\n",
      "****\n",
      "*****\n",
      "******\n",
      "*******\n",
      "       *\n",
      "      **\n",
      "     ***\n",
      "    ****\n",
      "   *****\n",
      "  ******\n",
      " *******\n"
     ]
    }
   ],
   "source": [
    "N = int(input())\n",
    "\n",
    "# 왼쪽 정렬\n",
    "for i in range(1, N+1): # 중첩 반복분 \n",
    "    for j in range(1, i+1):\n",
    "        print(\"*\" , end=\"\")\n",
    "    print() # 위에서 print() 함수를 호출하면 end=\"\" 로 바꿔줫기 때문에 줄바꿈이 되지 않는다. 여기서 줄바꿈을 실행  \n",
    "\n",
    "# 오른쪽 정렬\n",
    "for i in range(1, N+1): # i 가 별의 개수\n",
    "    for j in range(N-i,-1,-1):\n",
    "        print(\" \" , end=\"\") # 공백을 먼저 출력해준다. 공백을 출력하는 갯수는 N - 별의 개수\n",
    "    print(\"*\" * i) # 공백을 출력하고 나서 나머지 갯수만큼 별을 출력해준다.\n"
   ]
  },
  {
   "cell_type": "markdown",
   "metadata": {},
   "source": [
    "## 7. 중간값 찾기 (SWEA # 2063 변형)\n",
    "\n",
    "주어진 리스트에서 중간값을 찾아 출력하는 문제\n"
   ]
  },
  {
   "cell_type": "code",
   "execution_count": 23,
   "metadata": {},
   "outputs": [
    {
     "name": "stdout",
     "output_type": "stream",
     "text": [
      "64\n"
     ]
    }
   ],
   "source": [
    "numbers = [\n",
    "    85, 72, 38, 80, 69, 65, 68, 96, 22, 49, 67,\n",
    "    51, 61, 63, 87, 66, 24, 80, 83, 71, 60, 64,\n",
    "    52, 90, 60, 49, 31, 23, 99, 94, 11, 25, 24\n",
    "]\n",
    "\n",
    "# 중간값의 위치? 인덱스?\n",
    "center = len(numbers) // 2 # 리스트의 가운데 인덱스를 얻어오기\n",
    "sorted_numbers = sorted(numbers) # sorted() 함수를 사용해서 리스트 정렬\n",
    "print(sorted_numbers[center]) # 정렬한 리스트의 가운데 위치에 존재하는 값 출력\n",
    "\n"
   ]
  }
 ],
 "metadata": {
  "kernelspec": {
   "display_name": "Python 3.10.0 64-bit",
   "language": "python",
   "name": "python3"
  },
  "language_info": {
   "codemirror_mode": {
    "name": "ipython",
    "version": 3
   },
   "file_extension": ".py",
   "mimetype": "text/x-python",
   "name": "python",
   "nbconvert_exporter": "python",
   "pygments_lexer": "ipython3",
   "version": "3.10.0"
  },
  "orig_nbformat": 4,
  "vscode": {
   "interpreter": {
    "hash": "369f2c481f4da34e4445cda3fffd2e751bd1c4d706f27375911949ba6bb62e1c"
   }
  }
 },
 "nbformat": 4,
 "nbformat_minor": 2
}
