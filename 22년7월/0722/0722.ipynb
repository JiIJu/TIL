{
 "cells": [
  {
   "cell_type": "markdown",
   "id": "9dac5a17",
   "metadata": {},
   "source": [
    "## 내 이름은 몇일까?\n",
    "\n",
    "문자열을 전달 받아서 해당 문자열의 각 문자에 대응되는 아스키 숫자들의 합을 반환하는  \n",
    "get_secret_number 함수를 작성하시오. 단 문자열은 A~Z,a~z로 구성되어있다"
   ]
  },
  {
   "cell_type": "code",
   "execution_count": 3,
   "id": "3ee646b6",
   "metadata": {},
   "outputs": [
    {
     "name": "stdout",
     "output_type": "stream",
     "text": [
      "546\n"
     ]
    }
   ],
   "source": [
    "def get_secret_number(word): #word 는 문자열\n",
    "    total = 0 #word의 단어 하나하나를 숫자로 바꾼 후에 그 합을 저장할 변수\n",
    "    \n",
    "    for char in word: #문자열 word를 문자 하나하나로 쪼갠 char // \"happy\" => char = \"h\",\"a\",\"p\",\"p\",\"y\"\n",
    "        total += ord(char) #주어진 문자열 char을 아스키코드로 바꿔주는 함수\n",
    "    \n",
    "    return total\n",
    "\n",
    "print(get_secret_number('happy'))\n",
    "        "
   ]
  },
  {
   "cell_type": "markdown",
   "id": "24965521",
   "metadata": {},
   "source": [
    "## 7. 강한 이름\n",
    "\n",
    "문자열 2개를 전달 받아서 두 문자열의 각 문자에 대응되는 아스키 숫자들의 합을 비교해서 더 큰 합을 가진 문자열을 반환하는 get_strong_word 함수를 작성하시오."
   ]
  },
  {
   "cell_type": "code",
   "execution_count": 9,
   "id": "0963747d",
   "metadata": {},
   "outputs": [
    {
     "name": "stdout",
     "output_type": "stream",
     "text": [
      "('HELLO', 'HLLEO')\n"
     ]
    }
   ],
   "source": [
    "def get_strong_word(word1,word2): #word1 ,word2 는 문자열\n",
    "    #word1의 아스키숫자 합을 저장할 변수\n",
    "    word1_total = 0\n",
    "    #word2의 아스키숫자 합을 저장할 변수\n",
    "    word2_total = 0\n",
    "    \n",
    "    #word1의 아스키숫자 합 구하기\n",
    "    for char in word1:\n",
    "        word1_total +=ord(char)\n",
    "    #word2의 아스키숫자 합 구하기\n",
    "    for char in word2:\n",
    "        word2_total +=ord(char)\n",
    "    #값 비교해서 결과 반환\n",
    "    if word1_total > word2_total:\n",
    "        return word1\n",
    "    elif word1_total<word2_total:\n",
    "        return word2\n",
    "    else:\n",
    "        return word1,word2\n",
    "        \n",
    "print(get_strong_word('HELLO','HLLEO'))"
   ]
  },
  {
   "cell_type": "code",
   "execution_count": null,
   "id": "865ecd27",
   "metadata": {},
   "outputs": [],
   "source": []
  }
 ],
 "metadata": {
  "kernelspec": {
   "display_name": "Python 3 (ipykernel)",
   "language": "python",
   "name": "python3"
  },
  "language_info": {
   "codemirror_mode": {
    "name": "ipython",
    "version": 3
   },
   "file_extension": ".py",
   "mimetype": "text/x-python",
   "name": "python",
   "nbconvert_exporter": "python",
   "pygments_lexer": "ipython3",
   "version": "3.9.13"
  }
 },
 "nbformat": 4,
 "nbformat_minor": 5
}
