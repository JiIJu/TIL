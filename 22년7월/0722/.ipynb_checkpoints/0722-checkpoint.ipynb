{
 "cells": [
  {
   "cell_type": "markdown",
   "id": "357ad5f9",
   "metadata": {},
   "source": [
    "## 내 이름은 몇일까?\n",
    "\n",
    "문자열을 전달 받아서 해당 문자열의 각 문자에 대응되는 아스키 숫자들의 합을 반환하는  \n",
    "get_secret_number 함수를 작성하시오. 단 문자열은 A~Z,a~z로 구성되어있다"
   ]
  },
  {
   "cell_type": "code",
   "execution_count": 3,
   "id": "435217bd",
   "metadata": {},
   "outputs": [
    {
     "name": "stdout",
     "output_type": "stream",
     "text": [
      "546\n"
     ]
    }
   ],
   "source": [
    "def get_secret_number(word): #word 는 문자열\n",
    "    total = 0 #word의 단어 하나하나를 숫자로 바꾼 후에 그 합을 저장할 변수\n",
    "    \n",
    "    for char in word: #문자열 word를 문자 하나하나로 쪼갠 char // \"happy\" => char = \"h\",\"a\",\"p\",\"p\",\"y\"\n",
    "        total += ord(char) #주어진 문자열 char을 아스키코드로 바꿔주는 함수\n",
    "    \n",
    "    return total\n",
    "\n",
    "print(get_secret_number('happy'))\n",
    "        "
   ]
  },
  {
   "cell_type": "markdown",
   "id": "9cb69d7e",
   "metadata": {},
   "source": [
    "## 7. 강한 이름\n",
    "\n",
    "문자열 2개를 전달 받아서 두 문자열의 각 문자에 대응되는 아스키 숫자들의 합을 비교해서 더 큰 합을 가진 문자열을 반환하는 get_strong_word 함수를 작성하시오."
   ]
  },
  {
   "cell_type": "code",
   "execution_count": 6,
   "id": "e5d53fd3",
   "metadata": {},
   "outputs": [
    {
     "ename": "NameError",
     "evalue": "name 'word_total' is not defined",
     "output_type": "error",
     "traceback": [
      "\u001b[1;31m---------------------------------------------------------------------------\u001b[0m",
      "\u001b[1;31mNameError\u001b[0m                                 Traceback (most recent call last)",
      "Input \u001b[1;32mIn [6]\u001b[0m, in \u001b[0;36m<cell line: 21>\u001b[1;34m()\u001b[0m\n\u001b[0;32m     18\u001b[0m     \u001b[38;5;28;01melse\u001b[39;00m:\n\u001b[0;32m     19\u001b[0m         \u001b[38;5;28;01mreturn\u001b[39;00m word1,word2\n\u001b[1;32m---> 21\u001b[0m \u001b[38;5;28mprint\u001b[39m(\u001b[43mget_strong_word\u001b[49m\u001b[43m(\u001b[49m\u001b[38;5;124;43m'\u001b[39;49m\u001b[38;5;124;43mHELLO\u001b[39;49m\u001b[38;5;124;43m'\u001b[39;49m\u001b[43m,\u001b[49m\u001b[38;5;124;43m'\u001b[39;49m\u001b[38;5;124;43mHELLO\u001b[39;49m\u001b[38;5;124;43m'\u001b[39;49m\u001b[43m)\u001b[49m)\n",
      "Input \u001b[1;32mIn [6]\u001b[0m, in \u001b[0;36mget_strong_word\u001b[1;34m(word1, word2)\u001b[0m\n\u001b[0;32m     14\u001b[0m \u001b[38;5;28;01mif\u001b[39;00m word1_total \u001b[38;5;241m>\u001b[39m word2_total:\n\u001b[0;32m     15\u001b[0m     \u001b[38;5;28;01mreturn\u001b[39;00m word1\n\u001b[1;32m---> 16\u001b[0m \u001b[38;5;28;01melif\u001b[39;00m word1_total\u001b[38;5;241m<\u001b[39m\u001b[43mword_total\u001b[49m:\n\u001b[0;32m     17\u001b[0m     \u001b[38;5;28;01mreturn\u001b[39;00m word2\n\u001b[0;32m     18\u001b[0m \u001b[38;5;28;01melse\u001b[39;00m:\n",
      "\u001b[1;31mNameError\u001b[0m: name 'word_total' is not defined"
     ]
    }
   ],
   "source": [
    "def get_strong_word(word1,word2): #word1 ,word2 는 문자열\n",
    "    #word1의 아스키숫자 합을 저장할 변수\n",
    "    word1_total = 0\n",
    "    #word2의 아스키숫자 합을 저장할 변수\n",
    "    word2_total = 0\n",
    "    \n",
    "    #word1의 아스키숫자 합 구하기\n",
    "    for char in word1:\n",
    "        word1_total +=ord(char)\n",
    "    #word2의 아스키숫자 합 구하기\n",
    "    for char in word2:\n",
    "        word2_total +=ord(char)\n",
    "    #값 비교해서 결과 반환\n",
    "    if word1_total > word2_total:\n",
    "        return word1\n",
    "    elif word1_total<word2_total:\n",
    "        return word2\n",
    "    else:\n",
    "        return word1,word2\n",
    "        \n",
    "print(get_strong_word('HELLO','HELLO'))"
   ]
  },
  {
   "cell_type": "code",
   "execution_count": null,
   "id": "9d675495",
   "metadata": {},
   "outputs": [],
   "source": []
  }
 ],
 "metadata": {
  "kernelspec": {
   "display_name": "Python 3 (ipykernel)",
   "language": "python",
   "name": "python3"
  },
  "language_info": {
   "codemirror_mode": {
    "name": "ipython",
    "version": 3
   },
   "file_extension": ".py",
   "mimetype": "text/x-python",
   "name": "python",
   "nbconvert_exporter": "python",
   "pygments_lexer": "ipython3",
   "version": "3.9.13"
  }
 },
 "nbformat": 4,
 "nbformat_minor": 5
}
